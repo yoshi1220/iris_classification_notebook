{
  "nbformat": 4,
  "nbformat_minor": 0,
  "metadata": {
    "colab": {
      "name": "iris_classification.ipynb",
      "provenance": [],
      "collapsed_sections": [],
      "include_colab_link": true
    },
    "kernelspec": {
      "name": "python3",
      "display_name": "Python 3"
    }
  },
  "cells": [
    {
      "cell_type": "markdown",
      "metadata": {
        "id": "view-in-github",
        "colab_type": "text"
      },
      "source": [
        "<a href=\"https://colab.research.google.com/github/yoshi1220/iris_classification_notebook/blob/master/iris_classification.ipynb\" target=\"_parent\"><img src=\"https://colab.research.google.com/assets/colab-badge.svg\" alt=\"Open In Colab\"/></a>"
      ]
    },
    {
      "cell_type": "markdown",
      "metadata": {
        "id": "w44T_qkm0H2z",
        "colab_type": "text"
      },
      "source": [
        "# あやめの花の分類を色々な方法で行う"
      ]
    },
    {
      "cell_type": "code",
      "metadata": {
        "id": "tQ_Ymhkz5yI8",
        "colab_type": "code",
        "outputId": "f3251fa1-23be-406f-d3b4-5f98a89a4fad",
        "colab": {
          "base_uri": "https://localhost:8080/",
          "height": 51
        }
      },
      "source": [
        "from sklearn.datasets import load_iris\n",
        "from sklearn.model_selection import train_test_split\n",
        "\n",
        "# サンプルデータの読み込み\n",
        "iris_dataset = load_iris()\n",
        "\n",
        "print(iris_dataset.data.shape)\n",
        "print(iris_dataset.target.shape)"
      ],
      "execution_count": 0,
      "outputs": [
        {
          "output_type": "stream",
          "text": [
            "(150, 4)\n",
            "(150,)\n"
          ],
          "name": "stdout"
        }
      ]
    },
    {
      "cell_type": "code",
      "metadata": {
        "id": "Mx5cDnyr0EHt",
        "colab_type": "code",
        "colab": {}
      },
      "source": [
        "\n",
        "\n",
        "# 訓練データと識別データに分割する\n",
        "X_train, X_test, y_train, y_test = train_test_split(iris_dataset.data, \n",
        "                                                    iris_dataset.target, \n",
        "                                                    test_size=0.3, \n",
        "                                                    random_state=0)"
      ],
      "execution_count": 0,
      "outputs": []
    },
    {
      "cell_type": "markdown",
      "metadata": {
        "id": "WUPfgXP70iE1",
        "colab_type": "text"
      },
      "source": [
        "## k-最近傍法での予測"
      ]
    },
    {
      "cell_type": "code",
      "metadata": {
        "id": "MdSLkbLB0gum",
        "colab_type": "code",
        "outputId": "e87a003b-edd2-465e-b17f-26e0c101438f",
        "colab": {
          "base_uri": "https://localhost:8080/",
          "height": 34
        }
      },
      "source": [
        "from sklearn.neighbors import KNeighborsClassifier\n",
        "\n",
        "knn = KNeighborsClassifier(n_neighbors=3)\n",
        "knn.fit(X_train, y_train)\n",
        "score = knn.score(X_test, y_test)\n",
        "print(score)"
      ],
      "execution_count": 0,
      "outputs": [
        {
          "output_type": "stream",
          "text": [
            "0.9777777777777777\n"
          ],
          "name": "stdout"
        }
      ]
    },
    {
      "cell_type": "markdown",
      "metadata": {
        "id": "JtGZ_9QI1ukZ",
        "colab_type": "text"
      },
      "source": [
        "## ロジスティック回帰での予測"
      ]
    },
    {
      "cell_type": "code",
      "metadata": {
        "id": "gcOwhz5U1pp4",
        "colab_type": "code",
        "outputId": "88b7e06f-a514-41dd-b5c9-ded43fa10692",
        "colab": {
          "base_uri": "https://localhost:8080/",
          "height": 122
        }
      },
      "source": [
        "from sklearn.linear_model import LogisticRegression\n",
        "\n",
        "lr = LogisticRegression(C=10)\n",
        "lr.fit(X_train, y_train)\n",
        "score = lr.score(X_test, y_test)\n",
        "print(score)"
      ],
      "execution_count": 0,
      "outputs": [
        {
          "output_type": "stream",
          "text": [
            "0.9333333333333333\n"
          ],
          "name": "stdout"
        },
        {
          "output_type": "stream",
          "text": [
            "/usr/local/lib/python3.6/dist-packages/sklearn/linear_model/logistic.py:432: FutureWarning: Default solver will be changed to 'lbfgs' in 0.22. Specify a solver to silence this warning.\n",
            "  FutureWarning)\n",
            "/usr/local/lib/python3.6/dist-packages/sklearn/linear_model/logistic.py:469: FutureWarning: Default multi_class will be changed to 'auto' in 0.22. Specify the multi_class option to silence this warning.\n",
            "  \"this warning.\", FutureWarning)\n"
          ],
          "name": "stderr"
        }
      ]
    },
    {
      "cell_type": "markdown",
      "metadata": {
        "id": "U0xjXsXO2RH5",
        "colab_type": "text"
      },
      "source": [
        "## サポートベクターマシンによる予測"
      ]
    },
    {
      "cell_type": "code",
      "metadata": {
        "id": "V8TDRXEX17E-",
        "colab_type": "code",
        "outputId": "06ebc3c3-dc01-46cd-ded4-f1b14141bf00",
        "colab": {
          "base_uri": "https://localhost:8080/",
          "height": 88
        }
      },
      "source": [
        "from sklearn.svm import SVC\n",
        "\n",
        "svm = SVC()\n",
        "svm.fit(X_train, y_train)\n",
        "score = svm.score(X_test, y_test)\n",
        "print(score)"
      ],
      "execution_count": 0,
      "outputs": [
        {
          "output_type": "stream",
          "text": [
            "0.9777777777777777\n"
          ],
          "name": "stdout"
        },
        {
          "output_type": "stream",
          "text": [
            "/usr/local/lib/python3.6/dist-packages/sklearn/svm/base.py:193: FutureWarning: The default value of gamma will change from 'auto' to 'scale' in version 0.22 to account better for unscaled features. Set gamma explicitly to 'auto' or 'scale' to avoid this warning.\n",
            "  \"avoid this warning.\", FutureWarning)\n"
          ],
          "name": "stderr"
        }
      ]
    },
    {
      "cell_type": "markdown",
      "metadata": {
        "id": "Bakt9N2D2w27",
        "colab_type": "text"
      },
      "source": [
        "## 決定木での予測"
      ]
    },
    {
      "cell_type": "code",
      "metadata": {
        "id": "T8Ua_BuS2iZj",
        "colab_type": "code",
        "outputId": "77863cd4-fdf5-470b-cf1b-9bb2e4af5b2d",
        "colab": {
          "base_uri": "https://localhost:8080/",
          "height": 34
        }
      },
      "source": [
        "from sklearn.tree import DecisionTreeClassifier\n",
        "\n",
        "tree = DecisionTreeClassifier(max_depth=2)\n",
        "tree.fit(X_train, y_train)\n",
        "score = tree.score(X_test, y_test)\n",
        "print(score)"
      ],
      "execution_count": 0,
      "outputs": [
        {
          "output_type": "stream",
          "text": [
            "0.9111111111111111\n"
          ],
          "name": "stdout"
        }
      ]
    },
    {
      "cell_type": "markdown",
      "metadata": {
        "id": "kmP_6pTZ3USR",
        "colab_type": "text"
      },
      "source": [
        "## ディープラーニング（４層ニューラルネットワーク）による予測"
      ]
    },
    {
      "cell_type": "code",
      "metadata": {
        "id": "oUSh_MXI3B9t",
        "colab_type": "code",
        "outputId": "3737961b-0f9e-4f52-a7b8-4174eb643a95",
        "colab": {
          "base_uri": "https://localhost:8080/",
          "height": 51
        }
      },
      "source": [
        "from sklearn import preprocessing\n",
        "from keras.utils import np_utils\n",
        "\n",
        "# データの標準化\n",
        "scaler = preprocessing.StandardScaler()\n",
        "scaler.fit(iris_dataset.data)\n",
        "\n",
        "X = scaler.transform(iris_dataset.data)\n",
        "y = np_utils.to_categorical(iris_dataset.target)\n",
        "\n",
        "print(X.shape)\n",
        "print(y.shape)"
      ],
      "execution_count": 0,
      "outputs": [
        {
          "output_type": "stream",
          "text": [
            "(150, 4)\n",
            "(150, 3)\n"
          ],
          "name": "stdout"
        }
      ]
    },
    {
      "cell_type": "code",
      "metadata": {
        "id": "DQIDZ9o84wlu",
        "colab_type": "code",
        "outputId": "204793b1-890e-460b-dbeb-2bb2b6bd23e1",
        "colab": {
          "base_uri": "https://localhost:8080/",
          "height": 374
        }
      },
      "source": [
        "from keras.models import Sequential\n",
        "from keras.layers import Dense, Activation\n",
        "\n",
        "# 訓練データと識別データに分割する\n",
        "X_train, X_test, y_train, y_test = train_test_split(X, \n",
        "                                                    y, \n",
        "                                                    test_size=0.3, \n",
        "                                                    random_state=0)\n",
        "\n",
        "# ニューラネットワークの作成\n",
        "model = Sequential()\n",
        "\n",
        "# 最初の入力層と中間層の作成\n",
        "model.add(Dense(32, input_dim=4)) # 中間層のニューロンの数が32, 入力のニューロンの数が4\n",
        "# 活性化関数の追加\n",
        "model.add(Activation('relu')) \n",
        "\n",
        "# 中間層の追加\n",
        "model.add(Dense(32))\n",
        "model.add(Activation('relu'))\n",
        "\n",
        "# 出力層の追加\n",
        "model.add(Dense(3)) # targetの列数と同じにする\n",
        "model.add(Activation('softmax')) # 出力が確率を表す\n",
        "\n",
        "# モデルのコンパイル\n",
        "model.compile(optimizer='sgd', loss='categorical_crossentropy', metrics=['accuracy'])\n",
        "\n",
        "# コンパイルしたモデルのサマリー\n",
        "print(model.summary())"
      ],
      "execution_count": 0,
      "outputs": [
        {
          "output_type": "stream",
          "text": [
            "Model: \"sequential_4\"\n",
            "_________________________________________________________________\n",
            "Layer (type)                 Output Shape              Param #   \n",
            "=================================================================\n",
            "dense_10 (Dense)             (None, 32)                160       \n",
            "_________________________________________________________________\n",
            "activation_10 (Activation)   (None, 32)                0         \n",
            "_________________________________________________________________\n",
            "dense_11 (Dense)             (None, 32)                1056      \n",
            "_________________________________________________________________\n",
            "activation_11 (Activation)   (None, 32)                0         \n",
            "_________________________________________________________________\n",
            "dense_12 (Dense)             (None, 3)                 99        \n",
            "_________________________________________________________________\n",
            "activation_12 (Activation)   (None, 3)                 0         \n",
            "=================================================================\n",
            "Total params: 1,315\n",
            "Trainable params: 1,315\n",
            "Non-trainable params: 0\n",
            "_________________________________________________________________\n",
            "None\n"
          ],
          "name": "stdout"
        }
      ]
    },
    {
      "cell_type": "code",
      "metadata": {
        "id": "7CzmgXuT4-ln",
        "colab_type": "code",
        "outputId": "e6dd528a-869a-4345-e6ea-19fbb5430892",
        "colab": {
          "base_uri": "https://localhost:8080/",
          "height": 1000
        }
      },
      "source": [
        "trained_model = model.fit(X_train, y_train, nb_epoch=100, batch_size=8)"
      ],
      "execution_count": 0,
      "outputs": [
        {
          "output_type": "stream",
          "text": [
            "/usr/local/lib/python3.6/dist-packages/ipykernel_launcher.py:1: UserWarning: The `nb_epoch` argument in `fit` has been renamed `epochs`.\n",
            "  \"\"\"Entry point for launching an IPython kernel.\n"
          ],
          "name": "stderr"
        },
        {
          "output_type": "stream",
          "text": [
            "Epoch 1/100\n",
            "105/105 [==============================] - 0s 2ms/step - loss: 1.0663 - acc: 0.3810\n",
            "Epoch 2/100\n",
            "105/105 [==============================] - 0s 192us/step - loss: 1.0003 - acc: 0.5333\n",
            "Epoch 3/100\n",
            "105/105 [==============================] - 0s 210us/step - loss: 0.9381 - acc: 0.6095\n",
            "Epoch 4/100\n",
            "105/105 [==============================] - 0s 214us/step - loss: 0.8838 - acc: 0.6476\n",
            "Epoch 5/100\n",
            "105/105 [==============================] - 0s 206us/step - loss: 0.8332 - acc: 0.6571\n",
            "Epoch 6/100\n",
            "105/105 [==============================] - 0s 218us/step - loss: 0.7872 - acc: 0.6952\n",
            "Epoch 7/100\n",
            "105/105 [==============================] - 0s 246us/step - loss: 0.7466 - acc: 0.7048\n",
            "Epoch 8/100\n",
            "105/105 [==============================] - 0s 198us/step - loss: 0.7106 - acc: 0.7905\n",
            "Epoch 9/100\n",
            "105/105 [==============================] - 0s 229us/step - loss: 0.6800 - acc: 0.8095\n",
            "Epoch 10/100\n",
            "105/105 [==============================] - 0s 217us/step - loss: 0.6522 - acc: 0.8286\n",
            "Epoch 11/100\n",
            "105/105 [==============================] - 0s 280us/step - loss: 0.6234 - acc: 0.8381\n",
            "Epoch 12/100\n",
            "105/105 [==============================] - 0s 219us/step - loss: 0.5979 - acc: 0.8381\n",
            "Epoch 13/100\n",
            "105/105 [==============================] - 0s 208us/step - loss: 0.5760 - acc: 0.8476\n",
            "Epoch 14/100\n",
            "105/105 [==============================] - 0s 213us/step - loss: 0.5562 - acc: 0.8476\n",
            "Epoch 15/100\n",
            "105/105 [==============================] - 0s 200us/step - loss: 0.5379 - acc: 0.8476\n",
            "Epoch 16/100\n",
            "105/105 [==============================] - 0s 247us/step - loss: 0.5217 - acc: 0.8476\n",
            "Epoch 17/100\n",
            "105/105 [==============================] - 0s 202us/step - loss: 0.5068 - acc: 0.8667\n",
            "Epoch 18/100\n",
            "105/105 [==============================] - 0s 201us/step - loss: 0.4927 - acc: 0.8667\n",
            "Epoch 19/100\n",
            "105/105 [==============================] - 0s 211us/step - loss: 0.4802 - acc: 0.8667\n",
            "Epoch 20/100\n",
            "105/105 [==============================] - 0s 217us/step - loss: 0.4683 - acc: 0.8667\n",
            "Epoch 21/100\n",
            "105/105 [==============================] - 0s 221us/step - loss: 0.4561 - acc: 0.8667\n",
            "Epoch 22/100\n",
            "105/105 [==============================] - 0s 247us/step - loss: 0.4457 - acc: 0.8667\n",
            "Epoch 23/100\n",
            "105/105 [==============================] - 0s 238us/step - loss: 0.4354 - acc: 0.8667\n",
            "Epoch 24/100\n",
            "105/105 [==============================] - 0s 251us/step - loss: 0.4260 - acc: 0.8667\n",
            "Epoch 25/100\n",
            "105/105 [==============================] - 0s 200us/step - loss: 0.4170 - acc: 0.8667\n",
            "Epoch 26/100\n",
            "105/105 [==============================] - 0s 205us/step - loss: 0.4071 - acc: 0.8667\n",
            "Epoch 27/100\n",
            "105/105 [==============================] - 0s 193us/step - loss: 0.3995 - acc: 0.8667\n",
            "Epoch 28/100\n",
            "105/105 [==============================] - 0s 195us/step - loss: 0.3912 - acc: 0.8667\n",
            "Epoch 29/100\n",
            "105/105 [==============================] - 0s 200us/step - loss: 0.3839 - acc: 0.8667\n",
            "Epoch 30/100\n",
            "105/105 [==============================] - 0s 228us/step - loss: 0.3764 - acc: 0.8667\n",
            "Epoch 31/100\n",
            "105/105 [==============================] - 0s 220us/step - loss: 0.3698 - acc: 0.8667\n",
            "Epoch 32/100\n",
            "105/105 [==============================] - 0s 210us/step - loss: 0.3634 - acc: 0.8667\n",
            "Epoch 33/100\n",
            "105/105 [==============================] - 0s 213us/step - loss: 0.3570 - acc: 0.8667\n",
            "Epoch 34/100\n",
            "105/105 [==============================] - 0s 203us/step - loss: 0.3507 - acc: 0.8667\n",
            "Epoch 35/100\n",
            "105/105 [==============================] - 0s 272us/step - loss: 0.3446 - acc: 0.8667\n",
            "Epoch 36/100\n",
            "105/105 [==============================] - 0s 228us/step - loss: 0.3385 - acc: 0.8762\n",
            "Epoch 37/100\n",
            "105/105 [==============================] - 0s 185us/step - loss: 0.3325 - acc: 0.8857\n",
            "Epoch 38/100\n",
            "105/105 [==============================] - 0s 186us/step - loss: 0.3266 - acc: 0.8857\n",
            "Epoch 39/100\n",
            "105/105 [==============================] - 0s 184us/step - loss: 0.3209 - acc: 0.8857\n",
            "Epoch 40/100\n",
            "105/105 [==============================] - 0s 228us/step - loss: 0.3163 - acc: 0.8857\n",
            "Epoch 41/100\n",
            "105/105 [==============================] - 0s 258us/step - loss: 0.3117 - acc: 0.8857\n",
            "Epoch 42/100\n",
            "105/105 [==============================] - 0s 186us/step - loss: 0.3076 - acc: 0.8857\n",
            "Epoch 43/100\n",
            "105/105 [==============================] - 0s 235us/step - loss: 0.3022 - acc: 0.8952\n",
            "Epoch 44/100\n",
            "105/105 [==============================] - 0s 262us/step - loss: 0.2971 - acc: 0.8857\n",
            "Epoch 45/100\n",
            "105/105 [==============================] - 0s 245us/step - loss: 0.2923 - acc: 0.8857\n",
            "Epoch 46/100\n",
            "105/105 [==============================] - 0s 213us/step - loss: 0.2880 - acc: 0.8857\n",
            "Epoch 47/100\n",
            "105/105 [==============================] - 0s 193us/step - loss: 0.2835 - acc: 0.8857\n",
            "Epoch 48/100\n",
            "105/105 [==============================] - 0s 177us/step - loss: 0.2803 - acc: 0.9143\n",
            "Epoch 49/100\n",
            "105/105 [==============================] - 0s 197us/step - loss: 0.2762 - acc: 0.9143\n",
            "Epoch 50/100\n",
            "105/105 [==============================] - 0s 184us/step - loss: 0.2716 - acc: 0.9143\n",
            "Epoch 51/100\n",
            "105/105 [==============================] - 0s 178us/step - loss: 0.2671 - acc: 0.9048\n",
            "Epoch 52/100\n",
            "105/105 [==============================] - 0s 179us/step - loss: 0.2629 - acc: 0.8952\n",
            "Epoch 53/100\n",
            "105/105 [==============================] - 0s 212us/step - loss: 0.2608 - acc: 0.8762\n",
            "Epoch 54/100\n",
            "105/105 [==============================] - 0s 214us/step - loss: 0.2569 - acc: 0.8762\n",
            "Epoch 55/100\n",
            "105/105 [==============================] - 0s 196us/step - loss: 0.2532 - acc: 0.8762\n",
            "Epoch 56/100\n",
            "105/105 [==============================] - 0s 190us/step - loss: 0.2517 - acc: 0.8762\n",
            "Epoch 57/100\n",
            "105/105 [==============================] - 0s 193us/step - loss: 0.2445 - acc: 0.9048\n",
            "Epoch 58/100\n",
            "105/105 [==============================] - 0s 227us/step - loss: 0.2409 - acc: 0.9333\n",
            "Epoch 59/100\n",
            "105/105 [==============================] - 0s 219us/step - loss: 0.2393 - acc: 0.9333\n",
            "Epoch 60/100\n",
            "105/105 [==============================] - 0s 188us/step - loss: 0.2340 - acc: 0.9333\n",
            "Epoch 61/100\n",
            "105/105 [==============================] - 0s 184us/step - loss: 0.2302 - acc: 0.9333\n",
            "Epoch 62/100\n",
            "105/105 [==============================] - 0s 211us/step - loss: 0.2271 - acc: 0.9333\n",
            "Epoch 63/100\n",
            "105/105 [==============================] - 0s 229us/step - loss: 0.2231 - acc: 0.9333\n",
            "Epoch 64/100\n",
            "105/105 [==============================] - 0s 204us/step - loss: 0.2200 - acc: 0.9333\n",
            "Epoch 65/100\n",
            "105/105 [==============================] - 0s 205us/step - loss: 0.2172 - acc: 0.9238\n",
            "Epoch 66/100\n",
            "105/105 [==============================] - 0s 194us/step - loss: 0.2142 - acc: 0.9333\n",
            "Epoch 67/100\n",
            "105/105 [==============================] - 0s 255us/step - loss: 0.2109 - acc: 0.9333\n",
            "Epoch 68/100\n",
            "105/105 [==============================] - 0s 182us/step - loss: 0.2106 - acc: 0.9238\n",
            "Epoch 69/100\n",
            "105/105 [==============================] - 0s 202us/step - loss: 0.2063 - acc: 0.9429\n",
            "Epoch 70/100\n",
            "105/105 [==============================] - 0s 185us/step - loss: 0.2027 - acc: 0.9333\n",
            "Epoch 71/100\n",
            "105/105 [==============================] - 0s 192us/step - loss: 0.2002 - acc: 0.9333\n",
            "Epoch 72/100\n",
            "105/105 [==============================] - 0s 183us/step - loss: 0.1963 - acc: 0.9333\n",
            "Epoch 73/100\n",
            "105/105 [==============================] - 0s 185us/step - loss: 0.1938 - acc: 0.9333\n",
            "Epoch 74/100\n",
            "105/105 [==============================] - 0s 188us/step - loss: 0.1911 - acc: 0.9524\n",
            "Epoch 75/100\n",
            "105/105 [==============================] - 0s 208us/step - loss: 0.1885 - acc: 0.9333\n",
            "Epoch 76/100\n",
            "105/105 [==============================] - 0s 218us/step - loss: 0.1856 - acc: 0.9524\n",
            "Epoch 77/100\n",
            "105/105 [==============================] - 0s 215us/step - loss: 0.1831 - acc: 0.9333\n",
            "Epoch 78/100\n",
            "105/105 [==============================] - 0s 217us/step - loss: 0.1807 - acc: 0.9524\n",
            "Epoch 79/100\n",
            "105/105 [==============================] - 0s 203us/step - loss: 0.1784 - acc: 0.9333\n",
            "Epoch 80/100\n",
            "105/105 [==============================] - 0s 215us/step - loss: 0.1756 - acc: 0.9524\n",
            "Epoch 81/100\n",
            "105/105 [==============================] - 0s 205us/step - loss: 0.1738 - acc: 0.9429\n",
            "Epoch 82/100\n",
            "105/105 [==============================] - 0s 190us/step - loss: 0.1719 - acc: 0.9333\n",
            "Epoch 83/100\n",
            "105/105 [==============================] - 0s 191us/step - loss: 0.1688 - acc: 0.9524\n",
            "Epoch 84/100\n",
            "105/105 [==============================] - 0s 211us/step - loss: 0.1661 - acc: 0.9524\n",
            "Epoch 85/100\n",
            "105/105 [==============================] - 0s 235us/step - loss: 0.1642 - acc: 0.9524\n",
            "Epoch 86/100\n",
            "105/105 [==============================] - 0s 193us/step - loss: 0.1638 - acc: 0.9619\n",
            "Epoch 87/100\n",
            "105/105 [==============================] - 0s 192us/step - loss: 0.1601 - acc: 0.9619\n",
            "Epoch 88/100\n",
            "105/105 [==============================] - 0s 185us/step - loss: 0.1579 - acc: 0.9524\n",
            "Epoch 89/100\n",
            "105/105 [==============================] - 0s 208us/step - loss: 0.1562 - acc: 0.9619\n",
            "Epoch 90/100\n",
            "105/105 [==============================] - 0s 223us/step - loss: 0.1536 - acc: 0.9619\n",
            "Epoch 91/100\n",
            "105/105 [==============================] - 0s 179us/step - loss: 0.1510 - acc: 0.9619\n",
            "Epoch 92/100\n",
            "105/105 [==============================] - 0s 187us/step - loss: 0.1496 - acc: 0.9619\n",
            "Epoch 93/100\n",
            "105/105 [==============================] - 0s 206us/step - loss: 0.1474 - acc: 0.9619\n",
            "Epoch 94/100\n",
            "105/105 [==============================] - 0s 186us/step - loss: 0.1458 - acc: 0.9619\n",
            "Epoch 95/100\n",
            "105/105 [==============================] - 0s 209us/step - loss: 0.1438 - acc: 0.9714\n",
            "Epoch 96/100\n",
            "105/105 [==============================] - 0s 234us/step - loss: 0.1432 - acc: 0.9619\n",
            "Epoch 97/100\n",
            "105/105 [==============================] - 0s 217us/step - loss: 0.1413 - acc: 0.9619\n",
            "Epoch 98/100\n",
            "105/105 [==============================] - 0s 196us/step - loss: 0.1391 - acc: 0.9619\n",
            "Epoch 99/100\n",
            "105/105 [==============================] - 0s 217us/step - loss: 0.1368 - acc: 0.9619\n",
            "Epoch 100/100\n",
            "105/105 [==============================] - 0s 198us/step - loss: 0.1354 - acc: 0.9619\n"
          ],
          "name": "stdout"
        }
      ]
    },
    {
      "cell_type": "code",
      "metadata": {
        "id": "lGCqIrTG5B7X",
        "colab_type": "code",
        "outputId": "0dc161f0-18c3-4471-b5f0-e23ed7fed2e3",
        "colab": {
          "base_uri": "https://localhost:8080/",
          "height": 265
        }
      },
      "source": [
        "import matplotlib.pyplot as plt\n",
        "import numpy as np\n",
        "\n",
        "hist_loss = trained_model.history['loss']\n",
        "hist_acc = trained_model.history['acc']\n",
        "\n",
        "plt.plot(np.arange(len(hist_loss)), hist_loss, label='loss')\n",
        "plt.plot(np.arange(len(hist_acc)), hist_acc, label='acc')\n",
        "plt.legend()\n",
        "plt.show()"
      ],
      "execution_count": 0,
      "outputs": [
        {
          "output_type": "display_data",
          "data": {
            "image/png": "[encoded data removed]",
            "text/plain": [
              "<Figure size 432x288 with 1 Axes>"
            ]
          },
          "metadata": {
            "tags": []
          }
        }
      ]
    },
    {
      "cell_type": "code",
      "metadata": {
        "id": "Y62Ah47U5Npn",
        "colab_type": "code",
        "outputId": "83c2438a-4ab1-4430-a6b7-bb2c926884fc",
        "colab": {
          "base_uri": "https://localhost:8080/",
          "height": 51
        }
      },
      "source": [
        "_, accuracy = model.evaluate(X_test, y_test)\n",
        "print(accuracy)"
      ],
      "execution_count": 0,
      "outputs": [
        {
          "output_type": "stream",
          "text": [
            "45/45 [==============================] - 0s 1ms/step\n",
            "0.9777777791023254\n"
          ],
          "name": "stdout"
        }
      ]
    },
    {
      "cell_type": "code",
      "metadata": {
        "id": "I75gy3z75gRd",
        "colab_type": "code",
        "colab": {}
      },
      "source": [
        ""
      ],
      "execution_count": 0,
      "outputs": []
    }
  ]
}